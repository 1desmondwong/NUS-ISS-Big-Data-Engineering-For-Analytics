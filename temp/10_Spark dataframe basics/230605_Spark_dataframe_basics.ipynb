{
  "nbformat": 4,
  "nbformat_minor": 0,
  "metadata": {
    "colab": {
      "provenance": []
    },
    "kernelspec": {
      "name": "python3",
      "display_name": "Python 3"
    },
    "language_info": {
      "name": "python"
    }
  },
  "cells": [
    {
      "cell_type": "markdown",
      "source": [
        "This section covers the set up on Google CoLab, before going into the questions.\n"
      ],
      "metadata": {
        "id": "ss29TSiWFL-y"
      }
    },
    {
      "cell_type": "code",
      "execution_count": null,
      "metadata": {
        "colab": {
          "base_uri": "https://localhost:8080/"
        },
        "id": "6PlNnkSLccAy",
        "outputId": "9f673fe4-449c-4968-830c-30052d264501"
      },
      "outputs": [
        {
          "output_type": "stream",
          "name": "stdout",
          "text": [
            "Looking in indexes: https://pypi.org/simple, https://us-python.pkg.dev/colab-wheels/public/simple/\n",
            "Requirement already satisfied: pyspark in /usr/local/lib/python3.10/dist-packages (3.4.0)\n",
            "Requirement already satisfied: py4j==0.10.9.7 in /usr/local/lib/python3.10/dist-packages (from pyspark) (0.10.9.7)\n"
          ]
        }
      ],
      "source": [
        "# Start session\n",
        "!pip install pyspark\n",
        "!pip install --ignore-install -q findspark\n",
        "from pyspark import SparkConf,SparkContext\n",
        "from pyspark.sql import SparkSession\n",
        "from pyspark.sql.types import *\n",
        "from pyspark.sql.functions import *\n",
        "import collections\n",
        "from functools import reduce # Used for Q(7)\n",
        "spark = ( SparkSession.builder.master(\"local\")\n",
        "  .appName(\"Spark Dataframe basics\")\n",
        "  .config('spark.ui.port', '4050')\n",
        "  .getOrCreate() )"
      ]
    },
    {
      "cell_type": "markdown",
      "source": [
        "Q1 This question is test your understanding of Python Basics.\n",
        "\n",
        "1.   What is 8 to the power 4?\n",
        "2.   Split this string “Split this string”\n",
        "3.   Given the variables: planet = “Earth”, diameter = 12742, use .format() to print the following string “The diameter of Earth is 12742 kilometers.”\n",
        "4.   Given the name list, use indexing to grab word “target”, the_list = [1,2,[3,4],[5,[100,200,['target']],23,11],1,7]\n",
        "5.   Given this nest dictionary grab the work “hello”. The_dic = {'k1':[1,2,3,{'tricky':['oh','man','inception',{'target':[1,2,3,'hello']}]}]}\n",
        "6.   Create a basic function that returns True if the word 'elephant' is contained in the input string. Don't worry about edge cases like a punctuation being attached to the word dog, but do account for capitalization.\n",
        "7.   Create a function that counts the number of times the word \"elephant\" occurs in a string. Again ignore edge cases.\n",
        "8.   Write a function to return one of 3 possible results: \"Low speed\", \"Medium speed\", or \"Fast speed\". If your speed is 60 or less, the result is \"Low speed\". If speed is between 61 and 80 inclusive, the result is \"Medium speed\". If speed is 81 or more, the result is \"Fast speed\". Unless it is your birthday (encoded as a boolean value in the parameters of the function) -- on your birthday, your speed can be 5 higher in all cases."
      ],
      "metadata": {
        "id": "dl8IN7okc0lS"
      }
    },
    {
      "cell_type": "code",
      "source": [
        "# (1) What is 8 to the power 4\n",
        "(lambda x, y: x ** y)(8, 4) "
      ],
      "metadata": {
        "colab": {
          "base_uri": "https://localhost:8080/"
        },
        "id": "MrwMH9ooeZsC",
        "outputId": "fdb2584a-45e6-48ba-ceeb-c360970b89f3"
      },
      "execution_count": null,
      "outputs": [
        {
          "output_type": "execute_result",
          "data": {
            "text/plain": [
              "4096"
            ]
          },
          "metadata": {},
          "execution_count": 2
        }
      ]
    },
    {
      "cell_type": "code",
      "source": [
        "# (2) Split this string “Split this string”\n",
        "string = \"Split this string\"\n",
        "print(string.split())"
      ],
      "metadata": {
        "colab": {
          "base_uri": "https://localhost:8080/"
        },
        "id": "Uo1DNGsvfl9F",
        "outputId": "f0d76db4-6560-4a4a-f448-4027a7b3e35f"
      },
      "execution_count": null,
      "outputs": [
        {
          "output_type": "stream",
          "name": "stdout",
          "text": [
            "['Split', 'this', 'string']\n"
          ]
        }
      ]
    },
    {
      "cell_type": "code",
      "source": [
        "# (3) Given the variables: planet = “Earth”, diameter = 12742, use .format() to print the following string “The diameter of Earth is 12742 kilometers.”\n",
        "planet = \"Earth\"\n",
        "diameter = 12742\n",
        "print(\"The diameter of Earth is {}.\".format(diameter))"
      ],
      "metadata": {
        "colab": {
          "base_uri": "https://localhost:8080/"
        },
        "id": "RoRSuIUdfsQ3",
        "outputId": "b0d9dc4d-5591-4f6f-fb31-e3fd18aeb907"
      },
      "execution_count": null,
      "outputs": [
        {
          "output_type": "stream",
          "name": "stdout",
          "text": [
            "The diameter of Earth is 12742.\n"
          ]
        }
      ]
    },
    {
      "cell_type": "code",
      "source": [
        "# (4) Given the name list, use indexing to grab word “target”, the_list = [1,2,[3,4],[5,[100,200,['target']],23,11],1,7]\n",
        "the_list = [1, 2, [3, 4], [5, [100, 200, ['target']], 23, 11], 1, 7]\n",
        "print(the_list[3][1][2][0])"
      ],
      "metadata": {
        "colab": {
          "base_uri": "https://localhost:8080/"
        },
        "id": "D9KOs_Jif_ma",
        "outputId": "3e64eef2-68ae-4ffa-cd98-c08666f0fa3f"
      },
      "execution_count": null,
      "outputs": [
        {
          "output_type": "stream",
          "name": "stdout",
          "text": [
            "target\n"
          ]
        }
      ]
    },
    {
      "cell_type": "code",
      "source": [
        "# (5) Given this nest dictionary grab the work “hello”. The_dic = {'k1':[1,2,3,{'tricky':['oh','man','inception',{'target':[1,2,3,'hello']}]}]}\n",
        "The_dic = {'k1': [1, 2, 3, {'tricky': ['oh', 'man', 'inception', {'target': [1, 2, 3, 'hello']}]}]}\n",
        "print(The_dic['k1'][3]['tricky'][3]['target'][3])"
      ],
      "metadata": {
        "colab": {
          "base_uri": "https://localhost:8080/"
        },
        "id": "5pjvscDUhbPt",
        "outputId": "9d2c11e2-66d8-4e0f-f089-8375c4a9e33e"
      },
      "execution_count": null,
      "outputs": [
        {
          "output_type": "stream",
          "name": "stdout",
          "text": [
            "hello\n"
          ]
        }
      ]
    },
    {
      "cell_type": "code",
      "source": [
        "# (6) Create a basic function that returns True if the word 'elephant' is contained in the input string. Don't worry about edge cases like a punctuation being attached to the word dog, but do account for capitalization.\n",
        "returns_elephant = lambda input_string: any(map(lambda x: 'elephant' in x.lower(), input_string.split()))"
      ],
      "metadata": {
        "id": "BCji2jeOjaEM"
      },
      "execution_count": null,
      "outputs": []
    },
    {
      "cell_type": "code",
      "source": [
        "# (7) Create a function that counts the number of times the word \"elephant\" occurs in a string. Again ignore edge cases.\n",
        "count_elephant = lambda input_string: reduce(lambda x, y: x + (y == 'elephant'), map(str.lower, input_string.split()), 0)"
      ],
      "metadata": {
        "id": "UqPaPjColbH7"
      },
      "execution_count": null,
      "outputs": []
    },
    {
      "cell_type": "code",
      "source": [
        "# (8) Write a function to return one of 3 possible results: \"Low speed\", \"Medium speed\", or \"Fast speed\". If your speed is 60 or less, the result is \"Low speed\". If speed is between 61 and 80 inclusive, the result is \"Medium speed\". If speed is 81 or more, the result is \"Fast speed\". Unless it is your birthday (encoded as a boolean value in the parameters of the function) -- on your birthday, your speed can be 5 higher in all cases.\n",
        "get_speed_category = lambda speed, is_birthday: \"Low speed\" if (speed + 5 * is_birthday) <= 60 else \"Medium speed\" if (speed + 5 * is_birthday) <= 80 else \"Fast speed\"\n"
      ],
      "metadata": {
        "id": "v2h3OxcWmHA6"
      },
      "execution_count": null,
      "outputs": []
    },
    {
      "cell_type": "markdown",
      "source": [
        "Q2 This question is test your understanding of PySpark operations on DataFrame (Optional).\n",
        "\n",
        "Given the following DataFrame which contains “employee_name”, “department”, “country“, “salary”, “age” and “bonus” columns\n",
        "Data = [(\"James\",\"Sales\",\"SG\",70000,34,10000),\n",
        "  (\"Michael\",\"Sales\",\"SG\",66000,56,20000),\n",
        "  (\"Robert\",\"Sales\",\"MY\",61000,30,23000),\n",
        "  (\"Maria\",\"Finance\",\"MY\",60000,24,23000),\n",
        "  (\"Raman\",\"Finance\",\"USA\",79000,40,24000),\n",
        "  (\"Scott\",\"Finance\",\"USA\",63000,36,19000),\n",
        "  (\"Jen\",\"Finance\",\"UK\",89000,53,15000),\n",
        "  (\"Jeff\",\"Marketing\",\"UK\",70000,25,18000),\n",
        "  (\"Alice\",\"Marketing\",\"UK\",78000,50,21000),\n",
        "  (\"Ada\",\"IT\",\"SG\",83000,35,11000),\n",
        "  (\"Jackson\",\"IT\",\"MY\",71000,30,21000),\n",
        "  (\"Cooper\",\"IT\",\"UK\",91000,40,21000)]\n",
        "\n",
        "Complete the following items:\n",
        "\n",
        "9.   Create a PySpark DataFrame based on the given RDD.\n",
        "10.   Show data and print schema\n",
        "11.   Run groupBy() on “department” columns. Calculate aggregates like minimum, maximum, average, total salary for each group using min(), max(), avg() and sum() aggregate functions respectively.\n",
        "12.   Run groupBy() on “country” columns. Calculate aggregates like minimum, maximum, average, total salary for each group using min(), max(), avg() and sum() aggregate functions respectively."
      ],
      "metadata": {
        "id": "_iTYiJeDdaIf"
      }
    },
    {
      "cell_type": "code",
      "source": [
        "# (9) Create a PySpark DataFrame based on the given RDD.\n",
        "spark = SparkSession.builder.appName(\"EmployeeData\").getOrCreate()\n",
        "schema = StructType([\n",
        "    StructField(\"employee_name\", StringType(), True),\n",
        "    StructField(\"department\", StringType(), True),\n",
        "    StructField(\"country\", StringType(), True),\n",
        "    StructField(\"salary\", LongType(), True),\n",
        "    StructField(\"age\", IntegerType(), True),\n",
        "    StructField(\"bonus\", LongType(), True),\n",
        "    ])\n",
        "data = [(\"James\",\"Sales\",\"SG\",70000,34,10000),\n",
        "        (\"Michael\",\"Sales\",\"SG\",66000,56,20000),\n",
        "        (\"Robert\",\"Sales\",\"MY\",61000,30,23000),\n",
        "        (\"Maria\",\"Finance\",\"MY\",60000,24,23000),\n",
        "        (\"Raman\",\"Finance\",\"USA\",79000,40,24000),\n",
        "        (\"Scott\",\"Finance\",\"USA\",63000,36,19000),\n",
        "        (\"Jen\",\"Finance\",\"UK\",89000,53,15000),\n",
        "        (\"Jeff\",\"Marketing\",\"UK\",70000,25,18000),\n",
        "        (\"Alice\",\"Marketing\",\"UK\",78000,50,21000),\n",
        "        (\"Ada\",\"IT\",\"SG\",83000,35,11000),\n",
        "        (\"Jackson\",\"IT\",\"MY\",71000,30,21000),\n",
        "        (\"Cooper\",\"IT\",\"UK\",91000,40,21000)]\n",
        "rdd = spark.sparkContext.parallelize(data)\n",
        "df = spark.createDataFrame(rdd, schema)"
      ],
      "metadata": {
        "id": "tEih09UznDAN"
      },
      "execution_count": null,
      "outputs": []
    },
    {
      "cell_type": "code",
      "source": [
        "# (10) Show data and print schema\n",
        "df.show()\n",
        "df.printSchema()"
      ],
      "metadata": {
        "id": "gYZumExhqH_v",
        "colab": {
          "base_uri": "https://localhost:8080/"
        },
        "outputId": "46d6864b-61c5-48e8-d50f-4f93e834c17f"
      },
      "execution_count": null,
      "outputs": [
        {
          "output_type": "stream",
          "name": "stdout",
          "text": [
            "+-------------+----------+-------+------+---+-----+\n",
            "|employee_name|department|country|salary|age|bonus|\n",
            "+-------------+----------+-------+------+---+-----+\n",
            "|        James|     Sales|     SG| 70000| 34|10000|\n",
            "|      Michael|     Sales|     SG| 66000| 56|20000|\n",
            "|       Robert|     Sales|     MY| 61000| 30|23000|\n",
            "|        Maria|   Finance|     MY| 60000| 24|23000|\n",
            "|        Raman|   Finance|    USA| 79000| 40|24000|\n",
            "|        Scott|   Finance|    USA| 63000| 36|19000|\n",
            "|          Jen|   Finance|     UK| 89000| 53|15000|\n",
            "|         Jeff| Marketing|     UK| 70000| 25|18000|\n",
            "|        Alice| Marketing|     UK| 78000| 50|21000|\n",
            "|          Ada|        IT|     SG| 83000| 35|11000|\n",
            "|      Jackson|        IT|     MY| 71000| 30|21000|\n",
            "|       Cooper|        IT|     UK| 91000| 40|21000|\n",
            "+-------------+----------+-------+------+---+-----+\n",
            "\n",
            "root\n",
            " |-- employee_name: string (nullable = true)\n",
            " |-- department: string (nullable = true)\n",
            " |-- country: string (nullable = true)\n",
            " |-- salary: long (nullable = true)\n",
            " |-- age: integer (nullable = true)\n",
            " |-- bonus: long (nullable = true)\n",
            "\n"
          ]
        }
      ]
    },
    {
      "cell_type": "code",
      "source": [
        "# (11) Run groupBy() on “department” columns. Calculate aggregates like minimum, maximum, average, total salary for each group using min(), max(), avg() and sum() aggregate functions respectively.\n",
        "df.groupBy(\"department\").agg(\n",
        "    min(\"salary\").alias(\"minimum salary\"),\n",
        "    max(\"salary\").alias(\"maximum salary\"),\n",
        "    (round(avg(\"salary\"), 0)).alias(\"average salary\"),\n",
        "    sum(\"salary\").alias(\"total salary\")\n",
        ").show()"
      ],
      "metadata": {
        "id": "ameoOEeJtiZY",
        "colab": {
          "base_uri": "https://localhost:8080/"
        },
        "outputId": "a7771413-1d92-40a1-ce24-5b218656461e"
      },
      "execution_count": null,
      "outputs": [
        {
          "output_type": "stream",
          "name": "stdout",
          "text": [
            "+----------+--------------+--------------+--------------+------------+\n",
            "|department|minimum salary|maximum salary|average salary|total salary|\n",
            "+----------+--------------+--------------+--------------+------------+\n",
            "|     Sales|         61000|         70000|       65667.0|      197000|\n",
            "|   Finance|         60000|         89000|       72750.0|      291000|\n",
            "| Marketing|         70000|         78000|       74000.0|      148000|\n",
            "|        IT|         71000|         91000|       81667.0|      245000|\n",
            "+----------+--------------+--------------+--------------+------------+\n",
            "\n"
          ]
        }
      ]
    },
    {
      "cell_type": "code",
      "source": [
        "# (12) Run groupBy() on “country” columns. Calculate aggregates like minimum, maximum, average, total salary for each group using min(), max(), avg() and sum() aggregate functions respectively.\n",
        "df.groupBy(\"country\").agg(\n",
        "    min(\"salary\").alias(\"minimum salary\"),\n",
        "    max(\"salary\").alias(\"maximum salary\"),\n",
        "   (round(avg(\"salary\"), 0)).alias(\"average salary\"),\n",
        "    sum(\"salary\").alias(\"total salary\")\n",
        ").show()"
      ],
      "metadata": {
        "id": "HAVtdmuLtxkj",
        "colab": {
          "base_uri": "https://localhost:8080/"
        },
        "outputId": "e1005536-2228-43a5-a198-f03198ee6b5d"
      },
      "execution_count": null,
      "outputs": [
        {
          "output_type": "stream",
          "name": "stdout",
          "text": [
            "+-------+--------------+--------------+--------------+------------+\n",
            "|country|minimum salary|maximum salary|average salary|total salary|\n",
            "+-------+--------------+--------------+--------------+------------+\n",
            "|     MY|         60000|         71000|       64000.0|      192000|\n",
            "|    USA|         63000|         79000|       71000.0|      142000|\n",
            "|     SG|         66000|         83000|       73000.0|      219000|\n",
            "|     UK|         70000|         91000|       82000.0|      328000|\n",
            "+-------+--------------+--------------+--------------+------------+\n",
            "\n"
          ]
        }
      ]
    }
  ]
}